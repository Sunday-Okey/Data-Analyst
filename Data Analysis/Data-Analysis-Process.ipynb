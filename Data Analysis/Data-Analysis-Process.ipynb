{
 "cells": [
  {
   "cell_type": "markdown",
   "id": "b528da05",
   "metadata": {},
   "source": [
    "## Data Analysis Process"
   ]
  },
  {
   "cell_type": "markdown",
   "id": "421d954a",
   "metadata": {},
   "source": [
    "https://www.youtube.com/watch?v=daYW3QJpR6U"
   ]
  },
  {
   "cell_type": "markdown",
   "id": "893541f5",
   "metadata": {},
   "source": [
    "https://www.youtube.com/watch?v=R3KfPxwwMSs"
   ]
  },
  {
   "cell_type": "markdown",
   "id": "17def74d",
   "metadata": {},
   "source": [
    "### Course Overview\n",
    "A data analyst is someone who uses data to answer questions, and that's exactly what you'll be doing here! You are currently in the first lesson of the course. Here's a preview of the lessons ahead:\n",
    "\n",
    "- The Data Analysis Process\n",
    "- Jupyter Notebooks\n",
    "- Exploring and Inspecting Data\n",
    "- Manipulating Data using Pandas and NumPy\n",
    "- Communicating Results\n",
    "- Investigate a Dataset"
   ]
  },
  {
   "cell_type": "markdown",
   "id": "8246c5e5",
   "metadata": {},
   "source": [
    "## Lesson Overview\n",
    "\n",
    "In this lesson, you will learn about the types of problems data analysts solve, the steps that make up the data analysis process, and the packages and tools we will be using throughout the course. This lesson is aimed at helping you quickly understand what happens at each step and what the tools are used for before we dive into specific applications.\n",
    "\n",
    "Let's get started!"
   ]
  },
  {
   "cell_type": "markdown",
   "id": "1e64d14c",
   "metadata": {},
   "source": [
    "https://www.youtube.com/watch?v=zbjRiYSSR_Y"
   ]
  },
  {
   "cell_type": "markdown",
   "id": "d17cd937",
   "metadata": {},
   "source": [
    "### Problems Solved by Data Analysts"
   ]
  },
  {
   "cell_type": "code",
   "execution_count": null,
   "id": "cf3b41ac",
   "metadata": {},
   "outputs": [],
   "source": []
  }
 ],
 "metadata": {
  "kernelspec": {
   "display_name": "Python 3 (ipykernel)",
   "language": "python",
   "name": "python3"
  },
  "language_info": {
   "codemirror_mode": {
    "name": "ipython",
    "version": 3
   },
   "file_extension": ".py",
   "mimetype": "text/x-python",
   "name": "python",
   "nbconvert_exporter": "python",
   "pygments_lexer": "ipython3",
   "version": "3.10.9"
  }
 },
 "nbformat": 4,
 "nbformat_minor": 5
}
